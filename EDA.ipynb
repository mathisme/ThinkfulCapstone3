{
 "cells": [
  {
   "cell_type": "code",
   "execution_count": 1,
   "id": "0f07495f",
   "metadata": {},
   "outputs": [],
   "source": [
    "import numpy as np\n",
    "import pandas as pd\n",
    "import matplotlib.pyplot as plt\n",
    "import seaborn as sns"
   ]
  },
  {
   "cell_type": "code",
   "execution_count": 2,
   "id": "9c3fd9f6",
   "metadata": {},
   "outputs": [],
   "source": [
    "df = pd.read_csv('data/adult19.csv')"
   ]
  },
  {
   "cell_type": "code",
   "execution_count": 3,
   "id": "6735a2fc",
   "metadata": {},
   "outputs": [
    {
     "name": "stdout",
     "output_type": "stream",
     "text": [
      "<class 'pandas.core.frame.DataFrame'>\n",
      "RangeIndex: 31997 entries, 0 to 31996\n",
      "Columns: 534 entries, URBRRL to POVRATTC_A\n",
      "dtypes: float64(369), int64(164), object(1)\n",
      "memory usage: 130.4+ MB\n"
     ]
    }
   ],
   "source": [
    "df.info()"
   ]
  },
  {
   "cell_type": "code",
   "execution_count": 4,
   "id": "785399a1",
   "metadata": {},
   "outputs": [],
   "source": [
    "# those that feel depressed at least on a weekly basis\n",
    "df_depressed = df[df.DEPFREQ_A <= 2].copy()"
   ]
  },
  {
   "cell_type": "code",
   "execution_count": 5,
   "id": "b5c47255",
   "metadata": {},
   "outputs": [
    {
     "name": "stdout",
     "output_type": "stream",
     "text": [
      "<class 'pandas.core.frame.DataFrame'>\n",
      "Int64Index: 3118 entries, 4 to 31990\n",
      "Columns: 534 entries, URBRRL to POVRATTC_A\n",
      "dtypes: float64(369), int64(164), object(1)\n",
      "memory usage: 12.7+ MB\n"
     ]
    }
   ],
   "source": [
    "df_depressed.info()"
   ]
  },
  {
   "cell_type": "markdown",
   "id": "b9423b5b",
   "metadata": {},
   "source": [
    "Introduction: Here, you want to talk about the subject matter domain, an overall take on what makes the topic interesting, and your research questions.\n",
    "\n",
    "Hypotheses: Given your general research questions, which are based on some interesting observation or outside trend, the next step is to formally state which hypotheses you want to test.\n",
    "\n",
    "Data: Now that you have walked through the relevance of the topic, posed your research questions, and framed testable hypotheses based on those questions, it's time to introduce the dataset. Tell your audience about the data—when and where was it collected? Perhaps include descriptive statistics or measures of distribution.\n",
    "\n",
    "Methods: Explain the steps needed to test the hypotheses. This includes any data wrangling, tests, and visualizations that you will need to definitively reject or fail to reject your null hypotheses.\n",
    "\n",
    "Results: Now, you can walk through the results of the methods. State the results of your tests and explain whether these results mean that you reject or fail to reject the null. Also include compelling tables or graphs to illustrate your findings.\n",
    "\n",
    "Discussion and recommendations: What insights can interested parties get from this research? What would you recommend for further research?"
   ]
  },
  {
   "cell_type": "code",
   "execution_count": 6,
   "id": "303a7e1a",
   "metadata": {},
   "outputs": [],
   "source": [
    "depressed_vars = pd.read_csv('dep_vars.csv')"
   ]
  },
  {
   "cell_type": "code",
   "execution_count": 8,
   "id": "8ff01c17",
   "metadata": {},
   "outputs": [],
   "source": [
    "depressed_core = df_depressed[depressed_vars.Variable].copy()"
   ]
  },
  {
   "cell_type": "code",
   "execution_count": 9,
   "id": "7002bf1b",
   "metadata": {},
   "outputs": [
    {
     "name": "stdout",
     "output_type": "stream",
     "text": [
      "<class 'pandas.core.frame.DataFrame'>\n",
      "Int64Index: 3118 entries, 4 to 31990\n",
      "Data columns (total 12 columns):\n",
      " #   Column      Non-Null Count  Dtype  \n",
      "---  ------      --------------  -----  \n",
      " 0   DEPEV_A     3118 non-null   int64  \n",
      " 1   DEPFREQ_A   3118 non-null   int64  \n",
      " 2   DEPMED_A    3118 non-null   int64  \n",
      " 3   DEPLEVEL_A  3118 non-null   float64\n",
      " 4   PHQ81_A     3118 non-null   int64  \n",
      " 5   PHQ82_A     3118 non-null   int64  \n",
      " 6   PHQ83_A     3118 non-null   int64  \n",
      " 7   PHQ84_A     3118 non-null   int64  \n",
      " 8   PHQ85_A     3118 non-null   int64  \n",
      " 9   PHQ86_A     3118 non-null   int64  \n",
      " 10  PHQ87_A     3118 non-null   int64  \n",
      " 11  PHQ88_A     3118 non-null   int64  \n",
      "dtypes: float64(1), int64(11)\n",
      "memory usage: 316.7 KB\n"
     ]
    }
   ],
   "source": [
    "depressed_core.info()"
   ]
  },
  {
   "cell_type": "code",
   "execution_count": null,
   "id": "bc22ed38",
   "metadata": {},
   "outputs": [],
   "source": []
  }
 ],
 "metadata": {
  "kernelspec": {
   "display_name": "Python 3",
   "language": "python",
   "name": "python3"
  },
  "language_info": {
   "codemirror_mode": {
    "name": "ipython",
    "version": 3
   },
   "file_extension": ".py",
   "mimetype": "text/x-python",
   "name": "python",
   "nbconvert_exporter": "python",
   "pygments_lexer": "ipython3",
   "version": "3.9.5"
  }
 },
 "nbformat": 4,
 "nbformat_minor": 5
}
