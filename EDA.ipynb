{
 "cells": [
  {
   "cell_type": "code",
   "execution_count": 1,
   "id": "3830d05d",
   "metadata": {},
   "outputs": [],
   "source": [
    "import numpy as np\n",
    "import pandas as pd\n",
    "import matplotlib.pyplot as plt\n",
    "import seaborn as sns\n",
    "import ast\n",
    "import re\n",
    "import html\n",
    "from sklearn.feature_extraction.text import TfidfVectorizer\n",
    "from sklearn.decomposition import PCA"
   ]
  },
  {
   "cell_type": "code",
   "execution_count": 2,
   "id": "925bf6bc",
   "metadata": {},
   "outputs": [],
   "source": [
    "df = pd.read_csv('data/games_detailed_info.csv')"
   ]
  },
  {
   "cell_type": "code",
   "execution_count": 3,
   "id": "e7df7c88",
   "metadata": {},
   "outputs": [
    {
     "data": {
      "text/plain": [
       "Index(['Unnamed: 0', 'type', 'id', 'thumbnail', 'image', 'primary',\n",
       "       'alternate', 'description', 'yearpublished', 'minplayers', 'maxplayers',\n",
       "       'suggested_num_players', 'suggested_playerage',\n",
       "       'suggested_language_dependence', 'playingtime', 'minplaytime',\n",
       "       'maxplaytime', 'minage', 'boardgamecategory', 'boardgamemechanic',\n",
       "       'boardgamefamily', 'boardgameexpansion', 'boardgameimplementation',\n",
       "       'boardgamedesigner', 'boardgameartist', 'boardgamepublisher',\n",
       "       'usersrated', 'average', 'bayesaverage', 'Board Game Rank',\n",
       "       'Strategy Game Rank', 'Family Game Rank', 'stddev', 'median', 'owned',\n",
       "       'trading', 'wanting', 'wishing', 'numcomments', 'numweights',\n",
       "       'averageweight', 'boardgameintegration', 'boardgamecompilation',\n",
       "       'Party Game Rank', 'Abstract Game Rank', 'Thematic Rank',\n",
       "       'War Game Rank', 'Customizable Rank', 'Children's Game Rank',\n",
       "       'RPG Item Rank', 'Accessory Rank', 'Video Game Rank', 'Amiga Rank',\n",
       "       'Commodore 64 Rank', 'Arcade Rank', 'Atari ST Rank'],\n",
       "      dtype='object')"
      ]
     },
     "execution_count": 3,
     "metadata": {},
     "output_type": "execute_result"
    }
   ],
   "source": [
    "df.columns"
   ]
  },
  {
   "cell_type": "code",
   "execution_count": 4,
   "id": "88bf0cb5",
   "metadata": {},
   "outputs": [
    {
     "name": "stdout",
     "output_type": "stream",
     "text": [
      "<class 'pandas.core.frame.DataFrame'>\n",
      "RangeIndex: 19230 entries, 0 to 19229\n",
      "Data columns (total 56 columns):\n",
      " #   Column                         Non-Null Count  Dtype  \n",
      "---  ------                         --------------  -----  \n",
      " 0   Unnamed: 0                     19230 non-null  int64  \n",
      " 1   type                           19230 non-null  object \n",
      " 2   id                             19230 non-null  int64  \n",
      " 3   thumbnail                      19211 non-null  object \n",
      " 4   image                          19211 non-null  object \n",
      " 5   primary                        19230 non-null  object \n",
      " 6   alternate                      7685 non-null   object \n",
      " 7   description                    19229 non-null  object \n",
      " 8   yearpublished                  19230 non-null  int64  \n",
      " 9   minplayers                     19230 non-null  int64  \n",
      " 10  maxplayers                     19230 non-null  int64  \n",
      " 11  suggested_num_players          19230 non-null  object \n",
      " 12  suggested_playerage            16884 non-null  object \n",
      " 13  suggested_language_dependence  16645 non-null  object \n",
      " 14  playingtime                    19230 non-null  int64  \n",
      " 15  minplaytime                    19230 non-null  int64  \n",
      " 16  maxplaytime                    19230 non-null  int64  \n",
      " 17  minage                         19230 non-null  int64  \n",
      " 18  boardgamecategory              19009 non-null  object \n",
      " 19  boardgamemechanic              17681 non-null  object \n",
      " 20  boardgamefamily                14743 non-null  object \n",
      " 21  boardgameexpansion             4784 non-null   object \n",
      " 22  boardgameimplementation        4091 non-null   object \n",
      " 23  boardgamedesigner              18800 non-null  object \n",
      " 24  boardgameartist                13833 non-null  object \n",
      " 25  boardgamepublisher             19230 non-null  object \n",
      " 26  usersrated                     19230 non-null  int64  \n",
      " 27  average                        19230 non-null  float64\n",
      " 28  bayesaverage                   19230 non-null  float64\n",
      " 29  Board Game Rank                19230 non-null  int64  \n",
      " 30  Strategy Game Rank             2075 non-null   float64\n",
      " 31  Family Game Rank               2001 non-null   float64\n",
      " 32  stddev                         19230 non-null  float64\n",
      " 33  median                         19230 non-null  int64  \n",
      " 34  owned                          19230 non-null  int64  \n",
      " 35  trading                        19230 non-null  int64  \n",
      " 36  wanting                        19230 non-null  int64  \n",
      " 37  wishing                        19230 non-null  int64  \n",
      " 38  numcomments                    19230 non-null  int64  \n",
      " 39  numweights                     19230 non-null  int64  \n",
      " 40  averageweight                  19230 non-null  float64\n",
      " 41  boardgameintegration           1418 non-null   object \n",
      " 42  boardgamecompilation           694 non-null    object \n",
      " 43  Party Game Rank                582 non-null    float64\n",
      " 44  Abstract Game Rank             1026 non-null   float64\n",
      " 45  Thematic Rank                  1125 non-null   float64\n",
      " 46  War Game Rank                  3213 non-null   float64\n",
      " 47  Customizable Rank              289 non-null    float64\n",
      " 48  Children's Game Rank           810 non-null    float64\n",
      " 49  RPG Item Rank                  1 non-null      float64\n",
      " 50  Accessory Rank                 1 non-null      float64\n",
      " 51  Video Game Rank                1 non-null      float64\n",
      " 52  Amiga Rank                     1 non-null      float64\n",
      " 53  Commodore 64 Rank              1 non-null      float64\n",
      " 54  Arcade Rank                    1 non-null      float64\n",
      " 55  Atari ST Rank                  1 non-null      float64\n",
      "dtypes: float64(19), int64(18), object(19)\n",
      "memory usage: 8.2+ MB\n"
     ]
    }
   ],
   "source": [
    "df.info()"
   ]
  },
  {
   "cell_type": "code",
   "execution_count": 5,
   "id": "91247f3c",
   "metadata": {},
   "outputs": [
    {
     "data": {
      "text/plain": [
       "count    19230.000000\n",
       "mean      9614.500000\n",
       "std       5551.367174\n",
       "min          0.000000\n",
       "25%       4807.250000\n",
       "50%       9614.500000\n",
       "75%      14421.750000\n",
       "max      19229.000000\n",
       "Name: Unnamed: 0, dtype: float64"
      ]
     },
     "execution_count": 5,
     "metadata": {},
     "output_type": "execute_result"
    }
   ],
   "source": [
    "df[df.columns[0]].describe()"
   ]
  },
  {
   "cell_type": "markdown",
   "id": "aca673b0",
   "metadata": {},
   "source": [
    "Although the feature name is not specific, it looks like this is just a table id column.  It can be dropped"
   ]
  },
  {
   "cell_type": "code",
   "execution_count": 6,
   "id": "3f1dab8d",
   "metadata": {},
   "outputs": [],
   "source": [
    "df.drop(df.columns[0],axis=1,inplace=True)"
   ]
  },
  {
   "cell_type": "markdown",
   "id": "2cf9402f",
   "metadata": {},
   "source": [
    "I will also drop id.  The dataset contained multiplic csv files, as I am only exploring this one, id is not needed"
   ]
  },
  {
   "cell_type": "code",
   "execution_count": 7,
   "id": "9ae586e0",
   "metadata": {},
   "outputs": [],
   "source": [
    "df.drop('id',axis=1,inplace=True)"
   ]
  },
  {
   "cell_type": "markdown",
   "id": "ae5a16ba",
   "metadata": {},
   "source": [
    "looking at the 'type' feature"
   ]
  },
  {
   "cell_type": "code",
   "execution_count": 8,
   "id": "d8cdcb61",
   "metadata": {},
   "outputs": [
    {
     "data": {
      "text/plain": [
       "array(['boardgame'], dtype=object)"
      ]
     },
     "execution_count": 8,
     "metadata": {},
     "output_type": "execute_result"
    }
   ],
   "source": [
    "df.type.unique()"
   ]
  },
  {
   "cell_type": "markdown",
   "id": "8d2cf5b6",
   "metadata": {},
   "source": [
    "Since there is only 1 type this feature is not needed, I will drop it"
   ]
  },
  {
   "cell_type": "code",
   "execution_count": 9,
   "id": "e39dba10",
   "metadata": {},
   "outputs": [],
   "source": [
    "df.drop('type', axis=1, inplace = True)"
   ]
  },
  {
   "cell_type": "code",
   "execution_count": 10,
   "id": "e8e3fea2",
   "metadata": {},
   "outputs": [
    {
     "data": {
      "text/plain": [
       "Index(['thumbnail', 'image', 'primary', 'alternate', 'description',\n",
       "       'yearpublished', 'minplayers', 'maxplayers', 'suggested_num_players',\n",
       "       'suggested_playerage', 'suggested_language_dependence', 'playingtime',\n",
       "       'minplaytime', 'maxplaytime', 'minage', 'boardgamecategory',\n",
       "       'boardgamemechanic', 'boardgamefamily', 'boardgameexpansion',\n",
       "       'boardgameimplementation', 'boardgamedesigner', 'boardgameartist',\n",
       "       'boardgamepublisher', 'usersrated', 'average', 'bayesaverage',\n",
       "       'Board Game Rank', 'Strategy Game Rank', 'Family Game Rank', 'stddev',\n",
       "       'median', 'owned', 'trading', 'wanting', 'wishing', 'numcomments',\n",
       "       'numweights', 'averageweight', 'boardgameintegration',\n",
       "       'boardgamecompilation', 'Party Game Rank', 'Abstract Game Rank',\n",
       "       'Thematic Rank', 'War Game Rank', 'Customizable Rank',\n",
       "       'Children's Game Rank', 'RPG Item Rank', 'Accessory Rank',\n",
       "       'Video Game Rank', 'Amiga Rank', 'Commodore 64 Rank', 'Arcade Rank',\n",
       "       'Atari ST Rank'],\n",
       "      dtype='object')"
      ]
     },
     "execution_count": 10,
     "metadata": {},
     "output_type": "execute_result"
    }
   ],
   "source": [
    "df.columns"
   ]
  },
  {
   "cell_type": "code",
   "execution_count": 11,
   "id": "7924d2d5",
   "metadata": {},
   "outputs": [
    {
     "data": {
      "text/plain": [
       "['Action Points',\n",
       " 'Cooperative Game',\n",
       " 'Hand Management',\n",
       " 'Point to Point Movement',\n",
       " 'Set Collection',\n",
       " 'Trading',\n",
       " 'Variable Player Powers']"
      ]
     },
     "execution_count": 11,
     "metadata": {},
     "output_type": "execute_result"
    }
   ],
   "source": [
    "ast.literal_eval(df.boardgamemechanic[0])"
   ]
  },
  {
   "cell_type": "code",
   "execution_count": 12,
   "id": "4ffb9a68",
   "metadata": {},
   "outputs": [],
   "source": [
    "# can unescape html but first need to replace the null with an empty string\n",
    "df.description.fillna(\"\",inplace=True)\n",
    "df.description = df.description.apply(html.unescape)"
   ]
  },
  {
   "cell_type": "code",
   "execution_count": 13,
   "id": "00b460b5",
   "metadata": {},
   "outputs": [],
   "source": [
    "tfidf = TfidfVectorizer(strip_accents='unicode', stop_words='english')"
   ]
  },
  {
   "cell_type": "code",
   "execution_count": 14,
   "id": "344920b9",
   "metadata": {},
   "outputs": [],
   "source": [
    "X = tfidf.fit_transform(df.description)"
   ]
  },
  {
   "cell_type": "code",
   "execution_count": 15,
   "id": "49ce3158",
   "metadata": {},
   "outputs": [
    {
     "data": {
      "text/plain": [
       "(19230, 66436)"
      ]
     },
     "execution_count": 15,
     "metadata": {},
     "output_type": "execute_result"
    }
   ],
   "source": [
    "X.shape"
   ]
  },
  {
   "cell_type": "code",
   "execution_count": 16,
   "id": "005b28af",
   "metadata": {},
   "outputs": [
    {
     "data": {
      "text/plain": [
       "['00',\n",
       " '000',\n",
       " '0002',\n",
       " '000km',\n",
       " '000m',\n",
       " '000men',\n",
       " '001',\n",
       " '002',\n",
       " '007',\n",
       " '008',\n",
       " '00h',\n",
       " '01',\n",
       " '0100',\n",
       " '01077',\n",
       " '011',\n",
       " '0140280324',\n",
       " '0141037875',\n",
       " '017',\n",
       " '019',\n",
       " '02']"
      ]
     },
     "execution_count": 16,
     "metadata": {},
     "output_type": "execute_result"
    }
   ],
   "source": [
    "tfidf.get_feature_names()[:20]"
   ]
  },
  {
   "cell_type": "code",
   "execution_count": 17,
   "id": "18d6687f",
   "metadata": {},
   "outputs": [
    {
     "data": {
      "text/plain": [
       "['τονες',\n",
       " 'του',\n",
       " 'τους',\n",
       " 'τρα',\n",
       " 'τραγοi',\n",
       " 'τραγουδιστικi',\n",
       " 'τρελi',\n",
       " 'τρελizν',\n",
       " 'των',\n",
       " 'φρiœντισε',\n",
       " 'φτιαχτεi',\n",
       " 'φωνi',\n",
       " 'χi',\n",
       " 'χizρ',\n",
       " 'χει',\n",
       " 'χημεi',\n",
       " 'χουν',\n",
       " 'χρiœνος',\n",
       " 'ων',\n",
       " 'ωστiœσο']"
      ]
     },
     "execution_count": 17,
     "metadata": {},
     "output_type": "execute_result"
    }
   ],
   "source": [
    "tfidf.get_feature_names()[-20:]"
   ]
  },
  {
   "cell_type": "code",
   "execution_count": null,
   "id": "3478f6d2",
   "metadata": {},
   "outputs": [],
   "source": [
    "# might want to use regex to check for non alphanumeric characters and look at those descriptioons to remove"
   ]
  },
  {
   "cell_type": "code",
   "execution_count": 49,
   "id": "9f025c68",
   "metadata": {},
   "outputs": [],
   "source": [
    "# Too sparse to use PCA"
   ]
  },
  {
   "cell_type": "code",
   "execution_count": 65,
   "id": "cc2c2e45",
   "metadata": {},
   "outputs": [],
   "source": []
  },
  {
   "cell_type": "code",
   "execution_count": null,
   "id": "9f3ee6bd",
   "metadata": {},
   "outputs": [],
   "source": [
    "# PCA doesn't work, will have to try this by hand"
   ]
  }
 ],
 "metadata": {
  "kernelspec": {
   "display_name": "Python 3",
   "language": "python",
   "name": "python3"
  },
  "language_info": {
   "codemirror_mode": {
    "name": "ipython",
    "version": 3
   },
   "file_extension": ".py",
   "mimetype": "text/x-python",
   "name": "python",
   "nbconvert_exporter": "python",
   "pygments_lexer": "ipython3",
   "version": "3.9.5"
  }
 },
 "nbformat": 4,
 "nbformat_minor": 5
}
