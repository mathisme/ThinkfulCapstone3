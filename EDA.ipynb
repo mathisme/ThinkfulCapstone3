{
 "cells": [
  {
   "cell_type": "code",
   "execution_count": 1,
   "id": "0f07495f",
   "metadata": {},
   "outputs": [],
   "source": [
    "import numpy as np\n",
    "import pandas as pd\n",
    "import matplotlib.pyplot as plt\n",
    "import seaborn as sns"
   ]
  },
  {
   "cell_type": "code",
   "execution_count": 12,
   "id": "9c3fd9f6",
   "metadata": {},
   "outputs": [],
   "source": [
    "df = pd.read_csv('data/adult19.csv')"
   ]
  },
  {
   "cell_type": "code",
   "execution_count": 4,
   "id": "6735a2fc",
   "metadata": {},
   "outputs": [
    {
     "name": "stdout",
     "output_type": "stream",
     "text": [
      "<class 'pandas.core.frame.DataFrame'>\n",
      "RangeIndex: 31997 entries, 0 to 31996\n",
      "Columns: 534 entries, URBRRL to POVRATTC_A\n",
      "dtypes: float64(369), int64(164), object(1)\n",
      "memory usage: 130.4+ MB\n"
     ]
    }
   ],
   "source": [
    "df.info()"
   ]
  },
  {
   "cell_type": "code",
   "execution_count": 14,
   "id": "785399a1",
   "metadata": {},
   "outputs": [],
   "source": [
    "# those that feel depressed at least on a weekly basis\n",
    "df_depressed = df[df.DEPFREQ_A <= 2].copy()"
   ]
  },
  {
   "cell_type": "code",
   "execution_count": 15,
   "id": "b5c47255",
   "metadata": {},
   "outputs": [
    {
     "name": "stdout",
     "output_type": "stream",
     "text": [
      "<class 'pandas.core.frame.DataFrame'>\n",
      "Int64Index: 3118 entries, 4 to 31990\n",
      "Columns: 534 entries, URBRRL to POVRATTC_A\n",
      "dtypes: float64(369), int64(164), object(1)\n",
      "memory usage: 12.7+ MB\n"
     ]
    }
   ],
   "source": [
    "df_depressed.info()"
   ]
  },
  {
   "cell_type": "markdown",
   "id": "b9423b5b",
   "metadata": {},
   "source": [
    "Introduction: Here, you want to talk about the subject matter domain, an overall take on what makes the topic interesting, and your research questions.\n",
    "\n",
    "Hypotheses: Given your general research questions, which are based on some interesting observation or outside trend, the next step is to formally state which hypotheses you want to test.\n",
    "\n",
    "Data: Now that you have walked through the relevance of the topic, posed your research questions, and framed testable hypotheses based on those questions, it's time to introduce the dataset. Tell your audience about the data—when and where was it collected? Perhaps include descriptive statistics or measures of distribution.\n",
    "\n",
    "Methods: Explain the steps needed to test the hypotheses. This includes any data wrangling, tests, and visualizations that you will need to definitively reject or fail to reject your null hypotheses.\n",
    "\n",
    "Results: Now, you can walk through the results of the methods. State the results of your tests and explain whether these results mean that you reject or fail to reject the null. Also include compelling tables or graphs to illustrate your findings.\n",
    "\n",
    "Discussion and recommendations: What insights can interested parties get from this research? What would you recommend for further research?"
   ]
  },
  {
   "cell_type": "code",
   "execution_count": 16,
   "id": "57c029df",
   "metadata": {},
   "outputs": [],
   "source": [
    "df_depressed.drop(['RECTYPE','SRVY_YR','HHX','WTIA_A','WTFA_A'],axis=1, inplace=True)"
   ]
  },
  {
   "cell_type": "markdown",
   "id": "167aaac9",
   "metadata": {},
   "source": [
    "Looking at the urban-rural, classification scheme"
   ]
  },
  {
   "cell_type": "code",
   "execution_count": 18,
   "id": "756a5233",
   "metadata": {},
   "outputs": [
    {
     "data": {
      "text/plain": [
       "<AxesSubplot:xlabel='URBRRL', ylabel='count'>"
      ]
     },
     "execution_count": 18,
     "metadata": {},
     "output_type": "execute_result"
    },
    {
     "data": {
      "image/png": "[encoded data removed]",
      "text/plain": [
       "<Figure size 432x288 with 1 Axes>"
      ]
     },
     "metadata": {
      "needs_background": "light"
     },
     "output_type": "display_data"
    }
   ],
   "source": [
    "sns.countplot(x=df_depressed.URBRRL)"
   ]
  },
  {
   "cell_type": "markdown",
   "id": "af126ac0",
   "metadata": {},
   "source": [
    "The first three represent different metropolitan areas whereas 4 represents non-metropolitan.  According to the count plot, the most live in medium and small metro."
   ]
  },
  {
   "cell_type": "markdown",
   "id": "69499801",
   "metadata": {},
   "source": [
    "Looking at US regions they live in"
   ]
  },
  {
   "cell_type": "code",
   "execution_count": 19,
   "id": "b7232345",
   "metadata": {},
   "outputs": [
    {
     "data": {
      "text/plain": [
       "<AxesSubplot:xlabel='REGION', ylabel='count'>"
      ]
     },
     "execution_count": 19,
     "metadata": {},
     "output_type": "execute_result"
    },
    {
     "data": {
      "image/png": "[encoded data removed]",
      "text/plain": [
       "<Figure size 432x288 with 1 Axes>"
      ]
     },
     "metadata": {
      "needs_background": "light"
     },
     "output_type": "display_data"
    }
   ],
   "source": [
    "sns.countplot(x=df_depressed.REGION)"
   ]
  },
  {
   "cell_type": "markdown",
   "id": "37517cb3",
   "metadata": {},
   "source": [
    "The majority live in the south."
   ]
  },
  {
   "cell_type": "code",
   "execution_count": 20,
   "id": "ed888cbb",
   "metadata": {},
   "outputs": [],
   "source": [
    "df_depressed.drop(['PSTRAT','PPSU'],axis=1,inplace=True)"
   ]
  },
  {
   "cell_type": "markdown",
   "id": "8690e4ec",
   "metadata": {},
   "source": [
    "Looking at the quarter of the year in which the interview took place.  These were roughly similar with percentages although not exactly 25% each for the entire dataset."
   ]
  },
  {
   "cell_type": "code",
   "execution_count": 21,
   "id": "771aac36",
   "metadata": {},
   "outputs": [
    {
     "data": {
      "text/plain": [
       "<AxesSubplot:xlabel='INTV_QRT', ylabel='count'>"
      ]
     },
     "execution_count": 21,
     "metadata": {},
     "output_type": "execute_result"
    },
    {
     "data": {
      "image/png": "[encoded data removed]",
      "text/plain": [
       "<Figure size 432x288 with 1 Axes>"
      ]
     },
     "metadata": {
      "needs_background": "light"
     },
     "output_type": "display_data"
    }
   ],
   "source": [
    "sns.countplot(x=df_depressed.INTV_QRT)"
   ]
  },
  {
   "cell_type": "markdown",
   "id": "6da834ec",
   "metadata": {},
   "source": [
    "Roughly similar although feweer were depressed during the last quarter.  For further studies, you will want to limit questions to one quarter. Although looking back at the codebook, there were fewer interviews in the last quarter, so quarter doesn't seem to have any effect.  Going to drop it from the dataframe."
   ]
  },
  {
   "cell_type": "code",
   "execution_count": 22,
   "id": "f5481dd6",
   "metadata": {},
   "outputs": [],
   "source": [
    "df_depressed.drop(['INTV_QRT','HHSTAT_A'],axis=1,inplace=True)"
   ]
  },
  {
   "cell_type": "code",
   "execution_count": 24,
   "id": "1a5cf23d",
   "metadata": {},
   "outputs": [
    {
     "data": {
      "text/plain": [
       "1    3059\n",
       "5      59\n",
       "Name: ASTATNEW, dtype: int64"
      ]
     },
     "execution_count": 24,
     "metadata": {},
     "output_type": "execute_result"
    }
   ],
   "source": [
    "df_depressed.ASTATNEW.value_counts()"
   ]
  },
  {
   "cell_type": "markdown",
   "id": "fcc8fb10",
   "metadata": {},
   "source": [
    "As I am only interested in those whom completed the survey, just to make analysis easier, I will filter for astatnew to be 1"
   ]
  },
  {
   "cell_type": "code",
   "execution_count": 25,
   "id": "959c6109",
   "metadata": {},
   "outputs": [],
   "source": [
    "df_depressed = df_depressed[df_depressed.ASTATNEW==1].copy()"
   ]
  },
  {
   "cell_type": "code",
   "execution_count": 26,
   "id": "39ee6113",
   "metadata": {},
   "outputs": [
    {
     "name": "stdout",
     "output_type": "stream",
     "text": [
      "<class 'pandas.core.frame.DataFrame'>\n",
      "Int64Index: 3059 entries, 4 to 31990\n",
      "Columns: 525 entries, URBRRL to POVRATTC_A\n",
      "dtypes: float64(367), int64(158)\n",
      "memory usage: 12.3 MB\n"
     ]
    }
   ],
   "source": [
    "df_depressed.info()"
   ]
  },
  {
   "cell_type": "code",
   "execution_count": 27,
   "id": "c6697b7b",
   "metadata": {},
   "outputs": [],
   "source": [
    "df_depressed.drop('ASTATNEW', axis=1, inplace=True)"
   ]
  },
  {
   "cell_type": "code",
   "execution_count": 28,
   "id": "ccece208",
   "metadata": {},
   "outputs": [
    {
     "data": {
      "text/plain": [
       "1    2937\n",
       "3     122\n",
       "Name: AVAIL_A, dtype: int64"
      ]
     },
     "execution_count": 28,
     "metadata": {},
     "output_type": "execute_result"
    }
   ],
   "source": [
    "df_depressed.AVAIL_A.value_counts()"
   ]
  },
  {
   "cell_type": "markdown",
   "id": "0e02b722",
   "metadata": {},
   "source": [
    "Not sure yet if I want to include those whom have a condition which does not make it possible to respond and instead a proxy needs to respons"
   ]
  },
  {
   "cell_type": "code",
   "execution_count": 30,
   "id": "b91c6591",
   "metadata": {},
   "outputs": [],
   "source": [
    "df_depressed.drop('PROXY_A',axis=1,inplace=True)"
   ]
  },
  {
   "cell_type": "code",
   "execution_count": 31,
   "id": "c867c45c",
   "metadata": {},
   "outputs": [],
   "source": [
    "df_depressed.drop(['PROXYREL_A','HHRESPSA_FLG'],axis=1,inplace=True)"
   ]
  },
  {
   "cell_type": "code",
   "execution_count": 33,
   "id": "7335b968",
   "metadata": {},
   "outputs": [
    {
     "data": {
      "text/plain": [
       "count    3059.000000\n",
       "mean       51.745342\n",
       "std        18.422736\n",
       "min        18.000000\n",
       "25%        36.000000\n",
       "50%        53.000000\n",
       "75%        66.000000\n",
       "max        97.000000\n",
       "Name: AGEP_A, dtype: float64"
      ]
     },
     "execution_count": 33,
     "metadata": {},
     "output_type": "execute_result"
    }
   ],
   "source": [
    "df_depressed.AGEP_A.describe()"
   ]
  },
  {
   "cell_type": "code",
   "execution_count": 34,
   "id": "d93d765f",
   "metadata": {},
   "outputs": [],
   "source": [
    "df_depressed.drop('AGE65', axis=1, inplace=True)"
   ]
  },
  {
   "cell_type": "code",
   "execution_count": 35,
   "id": "0bff581c",
   "metadata": {},
   "outputs": [
    {
     "data": {
      "text/plain": [
       "<AxesSubplot:xlabel='SEX_A', ylabel='count'>"
      ]
     },
     "execution_count": 35,
     "metadata": {},
     "output_type": "execute_result"
    },
    {
     "data": {
      "image/png": "[encoded data removed]",
      "text/plain": [
       "<Figure size 432x288 with 1 Axes>"
      ]
     },
     "metadata": {
      "needs_background": "light"
     },
     "output_type": "display_data"
    }
   ],
   "source": [
    "sns.countplot(x=df_depressed.SEX_A)"
   ]
  },
  {
   "cell_type": "markdown",
   "id": "22335114",
   "metadata": {},
   "source": [
    "More femalse than males"
   ]
  },
  {
   "cell_type": "code",
   "execution_count": null,
   "id": "1d8b46b7",
   "metadata": {},
   "outputs": [],
   "source": []
  }
 ],
 "metadata": {
  "kernelspec": {
   "display_name": "Python 3",
   "language": "python",
   "name": "python3"
  },
  "language_info": {
   "codemirror_mode": {
    "name": "ipython",
    "version": 3
   },
   "file_extension": ".py",
   "mimetype": "text/x-python",
   "name": "python",
   "nbconvert_exporter": "python",
   "pygments_lexer": "ipython3",
   "version": "3.9.5"
  }
 },
 "nbformat": 4,
 "nbformat_minor": 5
}
