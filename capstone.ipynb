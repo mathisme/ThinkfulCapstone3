{
 "cells": [
  {
   "cell_type": "code",
   "execution_count": null,
   "id": "c03fe23c",
   "metadata": {},
   "outputs": [],
   "source": [
    "import numpy as np\n",
    "import pandas as pd\n",
    "import matplotlib.pyplot as plt\n",
    "import seaborn as sns\n",
    "from umap import UMAP\n",
    "from sklearn.decomposition import PCA\n",
    "from sklearn.preprocessing import MinMaxScaler\n",
    "from sklearn.cluster import KMeans\n",
    "from sklearn.model_selection import train_test_split\n",
    "from scipy.cluster.hierarchy import dendrogram, linkage\n",
    "from sklearn.cluster import AgglomerativeClustering\n",
    "from sklearn.cluster import DBSCAN\n",
    "from sklearn.metrics import silhouette_score"
   ]
  },
  {
   "cell_type": "markdown",
   "id": "f7d6abf2",
   "metadata": {},
   "source": [
    "# Table of Contents"
   ]
  },
  {
   "cell_type": "markdown",
   "id": "61187b23",
   "metadata": {},
   "source": [
    "# Introduction\n",
    "\n",
    "Here, you want to talk about the subject matter domain, an overall take on what makes the topic interesting, and your research questions."
   ]
  },
  {
   "cell_type": "markdown",
   "id": "a76fcc4d",
   "metadata": {},
   "source": [
    "# Hypothesis\n",
    "\n",
    "Given your general research questions, which are based on some interesting observation or outside trend, the next step is to formally state which hypotheses you want to test."
   ]
  },
  {
   "cell_type": "markdown",
   "id": "f0235a6b",
   "metadata": {},
   "source": [
    "# Data\n",
    "\n",
    "Now that you have walked through the relevance of the topic, posed your research questions, and framed testable hypotheses based on those questions, it's time to introduce the dataset. Tell your audience about the data—when and where was it collected? Perhaps include descriptive statistics or measures of distribution."
   ]
  },
  {
   "cell_type": "markdown",
   "id": "47c2af27",
   "metadata": {},
   "source": [
    "# Methods\n",
    "\n",
    "Explain the steps needed to test the hypotheses. This includes any data wrangling, tests, and visualizations that you will need to definitively reject or fail to reject your null hypotheses."
   ]
  },
  {
   "cell_type": "markdown",
   "id": "3cd52e2f",
   "metadata": {},
   "source": [
    "# Results\n",
    "\n",
    "Now, you can walk through the results of the methods. State the results of your tests and explain whether these results mean that you reject or fail to reject the null. Also include compelling tables or graphs to illustrate your findings."
   ]
  },
  {
   "cell_type": "markdown",
   "id": "5f9d2f05",
   "metadata": {},
   "source": [
    "# Discussion and Recommendations\n",
    "\n",
    "What insights can interested parties get from this research? What would you recommend for further research?"
   ]
  },
  {
   "cell_type": "markdown",
   "id": "1a58fd0c",
   "metadata": {},
   "source": [
    "# References"
   ]
  },
  {
   "cell_type": "markdown",
   "id": "4142810f",
   "metadata": {},
   "source": [
    "# Appendix"
   ]
  },
  {
   "cell_type": "code",
   "execution_count": null,
   "id": "abbb2fe5",
   "metadata": {},
   "outputs": [],
   "source": []
  }
 ],
 "metadata": {
  "celltoolbar": "Slideshow",
  "kernelspec": {
   "display_name": "Python 3",
   "language": "python",
   "name": "python3"
  },
  "language_info": {
   "codemirror_mode": {
    "name": "ipython",
    "version": 3
   },
   "file_extension": ".py",
   "mimetype": "text/x-python",
   "name": "python",
   "nbconvert_exporter": "python",
   "pygments_lexer": "ipython3",
   "version": "3.9.5"
  }
 },
 "nbformat": 4,
 "nbformat_minor": 5
}
