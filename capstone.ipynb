{
 "cells": [
  {
   "cell_type": "code",
   "execution_count": 1,
   "id": "c03fe23c",
   "metadata": {
    "slideshow": {
     "slide_type": "skip"
    }
   },
   "outputs": [],
   "source": [
    "import numpy as np\n",
    "import pandas as pd\n",
    "import matplotlib.pyplot as plt\n",
    "import seaborn as sns\n",
    "from umap import UMAP\n",
    "from sklearn.decomposition import PCA\n",
    "from sklearn.preprocessing import MinMaxScaler\n",
    "from sklearn.cluster import KMeans\n",
    "from sklearn.model_selection import train_test_split\n",
    "from scipy.cluster.hierarchy import dendrogram, linkage\n",
    "from sklearn.cluster import AgglomerativeClustering\n",
    "from sklearn.cluster import DBSCAN\n",
    "from sklearn.metrics import silhouette_score\n",
    "from sklearn.neighbors import NearestNeighbors\n",
    "from kneed.knee_locator import KneeLocator"
   ]
  },
  {
   "cell_type": "markdown",
   "id": "568c0e1a",
   "metadata": {
    "slideshow": {
     "slide_type": "slide"
    }
   },
   "source": [
    "# HOW CAN ADULTS SUFFERING FROM DEPRESSION BE CLUSTERED?\n",
    "<img src=\"ethan-sykes-TdM_fhzmWog-unsplash.jpg\" width=\"50%\" />\n",
    "Photo by <a href=\"https://unsplash.com/@e_sykes?utm_source=unsplash&utm_medium=referral&utm_content=creditCopyText\">Ethan Sykes</a> on <a href=\"https://unsplash.com/s/photos/depressed?utm_source=unsplash&utm_medium=referral&utm_content=creditCopyText\">Unsplash</a>"
   ]
  },
  {
   "cell_type": "markdown",
   "id": "f7d6abf2",
   "metadata": {
    "slideshow": {
     "slide_type": "slide"
    }
   },
   "source": [
    "# Table of Contents\n",
    "\n",
    "* [Introduction](#introduction)\n",
    "* [Research Question](#hypothesis)\n",
    "* [Data](#data)\n",
    "* [Methods](#methods)\n",
    "* [Results](#results)\n",
    "* [Discussion and Recommendations](#discussion)\n",
    "* [References](#references)\n",
    "* [Appendix](#appendix)"
   ]
  },
  {
   "cell_type": "markdown",
   "id": "61187b23",
   "metadata": {
    "slideshow": {
     "slide_type": "slide"
    }
   },
   "source": [
    "<a class=\"anchor\" id=\"introduction\"></a> \n",
    "# Introduction\n",
    "\n",
    "At least 17 million adults in the US suffer from depression each year.<sup>[1](#references)</sup>  And, according to the NCBI article, <u>Depression: How effective are antidepressants?</u><sup>[2](#references)</sup>, only 40 to 60 percent of those with severe depression who take antidepressants notice an improvement in their symptoms.  In this project I would like to explore how adults suffering from depression can be clustered.  If a clear seperation of clusters can be found, tailored treatments can be created to better help those sufferening from depression.  This is a topic of personal interest as my husband suffers from chronic depression."
   ]
  },
  {
   "cell_type": "markdown",
   "id": "a76fcc4d",
   "metadata": {
    "slideshow": {
     "slide_type": "slide"
    }
   },
   "source": [
    "<a class=\"anchor\" id=\"hypothesis\"></a> \n",
    "# Research Question\n",
    "\n",
    "How can adults suffering from depression be clustered?"
   ]
  },
  {
   "cell_type": "markdown",
   "id": "f0235a6b",
   "metadata": {
    "slideshow": {
     "slide_type": "slide"
    }
   },
   "source": [
    "<a class=\"anchor\" id=\"data\"></a> \n",
    "# Data\n",
    "\n"
   ]
  },
  {
   "cell_type": "markdown",
   "id": "c3b81bca",
   "metadata": {},
   "source": [
    "In order to answer this question, I am using data from the 2019 National Health Interview Survey, Sample Adult Interview.<sup>[3](#references)</sup> The National Health Intervey Survey is a yearly survey meant to 'monitor the health of the United States population.'<sup>[4](#references)</sup> It is a survey conducted in person throughout the year each year.  Populations not included in the survey: individuals with no fixed address, military personnel on active duty, people in long term care facilities, and US citizens living outside the US.  Due to this and the fact it is an optional survey, results are not completely representative of the entire US population.  \n",
    "\n",
    "The 2019 survey comes in two forms: an adult interview and a child interview.  For the project I chose to use data from the adult interview.\n",
    "\n",
    "Topics covered in the survey include but is not limited to: demographic data, chronic illnesses, mental health, health insurance coverage, substance use."
   ]
  },
  {
   "cell_type": "code",
   "execution_count": 2,
   "id": "1756a8ec",
   "metadata": {},
   "outputs": [
    {
     "name": "stdout",
     "output_type": "stream",
     "text": [
      "<class 'pandas.core.frame.DataFrame'>\n",
      "RangeIndex: 31997 entries, 0 to 31996\n",
      "Columns: 534 entries, URBRRL to POVRATTC_A\n",
      "dtypes: float64(369), int64(164), object(1)\n",
      "memory usage: 130.4+ MB\n"
     ]
    }
   ],
   "source": [
    "df = pd.read_csv('data/adult19.csv')\n",
    "df.info()"
   ]
  },
  {
   "cell_type": "markdown",
   "id": "269f94a9",
   "metadata": {},
   "source": [
    "The dataset consists of 31,996 observations and 534 features.  The features I plan to use are listed below.  After going through the entire codebook I chose to use only questions related to depression, demographics, chronic conditions, and substance abuse as I felt all might impact depression the most and have the fewest missing values."
   ]
  },
  {
   "cell_type": "code",
   "execution_count": 3,
   "id": "25815d95",
   "metadata": {},
   "outputs": [
    {
     "data": {
      "text/html": [
       "<div>\n",
       "<style scoped>\n",
       "    .dataframe tbody tr th:only-of-type {\n",
       "        vertical-align: middle;\n",
       "    }\n",
       "\n",
       "    .dataframe tbody tr th {\n",
       "        vertical-align: top;\n",
       "    }\n",
       "\n",
       "    .dataframe thead th {\n",
       "        text-align: right;\n",
       "    }\n",
       "</style>\n",
       "<table border=\"1\" class=\"dataframe\">\n",
       "  <thead>\n",
       "    <tr style=\"text-align: right;\">\n",
       "      <th></th>\n",
       "      <th>Variable</th>\n",
       "      <th>Question/Description</th>\n",
       "      <th>Category</th>\n",
       "    </tr>\n",
       "  </thead>\n",
       "  <tbody>\n",
       "    <tr>\n",
       "      <th>0</th>\n",
       "      <td>DEPEV_A</td>\n",
       "      <td>Ever had depression</td>\n",
       "      <td>depression</td>\n",
       "    </tr>\n",
       "    <tr>\n",
       "      <th>1</th>\n",
       "      <td>DEPFREQ_A</td>\n",
       "      <td>How often depressed</td>\n",
       "      <td>depression</td>\n",
       "    </tr>\n",
       "    <tr>\n",
       "      <th>2</th>\n",
       "      <td>DEPMED_A</td>\n",
       "      <td>Take medication for depression</td>\n",
       "      <td>depression</td>\n",
       "    </tr>\n",
       "    <tr>\n",
       "      <th>3</th>\n",
       "      <td>DEPLEVEL_A</td>\n",
       "      <td>Level of how depressed</td>\n",
       "      <td>depression</td>\n",
       "    </tr>\n",
       "    <tr>\n",
       "      <th>4</th>\n",
       "      <td>PHQ81_A</td>\n",
       "      <td>How often little interest in things past 2 weeks</td>\n",
       "      <td>depression</td>\n",
       "    </tr>\n",
       "    <tr>\n",
       "      <th>5</th>\n",
       "      <td>PHQ82_A</td>\n",
       "      <td>How often feeling down past 2 weeks</td>\n",
       "      <td>depression</td>\n",
       "    </tr>\n",
       "    <tr>\n",
       "      <th>6</th>\n",
       "      <td>PHQ83_A</td>\n",
       "      <td>How often trouble with sleeping past 2 weeks</td>\n",
       "      <td>depression</td>\n",
       "    </tr>\n",
       "    <tr>\n",
       "      <th>7</th>\n",
       "      <td>PHQ84_A</td>\n",
       "      <td>How often feeling tired past 2 weeks</td>\n",
       "      <td>depression</td>\n",
       "    </tr>\n",
       "    <tr>\n",
       "      <th>8</th>\n",
       "      <td>PHQ85_A</td>\n",
       "      <td>How often undereating or overeating past 2 weeks</td>\n",
       "      <td>depression</td>\n",
       "    </tr>\n",
       "    <tr>\n",
       "      <th>9</th>\n",
       "      <td>PHQ86_A</td>\n",
       "      <td>How often feeling bad about self past 2 weeks</td>\n",
       "      <td>depression</td>\n",
       "    </tr>\n",
       "    <tr>\n",
       "      <th>10</th>\n",
       "      <td>PHQ87_A</td>\n",
       "      <td>How often trouble concentrating past 2 weeks</td>\n",
       "      <td>depression</td>\n",
       "    </tr>\n",
       "    <tr>\n",
       "      <th>11</th>\n",
       "      <td>PHQ88_A</td>\n",
       "      <td>How often moving or speaking slow or fast past...</td>\n",
       "      <td>depression</td>\n",
       "    </tr>\n",
       "    <tr>\n",
       "      <th>12</th>\n",
       "      <td>AGEP_A</td>\n",
       "      <td>Age</td>\n",
       "      <td>demographics</td>\n",
       "    </tr>\n",
       "    <tr>\n",
       "      <th>13</th>\n",
       "      <td>SEX_A</td>\n",
       "      <td>Sex</td>\n",
       "      <td>demographics</td>\n",
       "    </tr>\n",
       "    <tr>\n",
       "      <th>14</th>\n",
       "      <td>MARITAL_A</td>\n",
       "      <td>Marital status</td>\n",
       "      <td>demographics</td>\n",
       "    </tr>\n",
       "    <tr>\n",
       "      <th>15</th>\n",
       "      <td>FAMINCTC_A</td>\n",
       "      <td>Family Income</td>\n",
       "      <td>demographics</td>\n",
       "    </tr>\n",
       "    <tr>\n",
       "      <th>16</th>\n",
       "      <td>EDUC_A</td>\n",
       "      <td>Education</td>\n",
       "      <td>demographics</td>\n",
       "    </tr>\n",
       "    <tr>\n",
       "      <th>17</th>\n",
       "      <td>EMPWRKLSWK_A</td>\n",
       "      <td>Working</td>\n",
       "      <td>demographics</td>\n",
       "    </tr>\n",
       "    <tr>\n",
       "      <th>18</th>\n",
       "      <td>RACEALLP_A</td>\n",
       "      <td>Race</td>\n",
       "      <td>demographics</td>\n",
       "    </tr>\n",
       "    <tr>\n",
       "      <th>19</th>\n",
       "      <td>HISP_A</td>\n",
       "      <td>Ethnicity</td>\n",
       "      <td>demographics</td>\n",
       "    </tr>\n",
       "    <tr>\n",
       "      <th>20</th>\n",
       "      <td>OPD12M_A</td>\n",
       "      <td>Opiod use</td>\n",
       "      <td>substances</td>\n",
       "    </tr>\n",
       "    <tr>\n",
       "      <th>21</th>\n",
       "      <td>SMKNOW_A</td>\n",
       "      <td>Cigarette use</td>\n",
       "      <td>substances</td>\n",
       "    </tr>\n",
       "    <tr>\n",
       "      <th>22</th>\n",
       "      <td>ECIGNOW_A</td>\n",
       "      <td>Ecigarette use</td>\n",
       "      <td>substances</td>\n",
       "    </tr>\n",
       "    <tr>\n",
       "      <th>23</th>\n",
       "      <td>HYPEV_A</td>\n",
       "      <td>Ever been told you have hypertension</td>\n",
       "      <td>chronic_conditions</td>\n",
       "    </tr>\n",
       "    <tr>\n",
       "      <th>24</th>\n",
       "      <td>CHLEV_A</td>\n",
       "      <td>Ever been told you have high cholesterol</td>\n",
       "      <td>chronic_conditions</td>\n",
       "    </tr>\n",
       "    <tr>\n",
       "      <th>25</th>\n",
       "      <td>ASEV_A</td>\n",
       "      <td>Ever been told you have asthma</td>\n",
       "      <td>chronic_conditions</td>\n",
       "    </tr>\n",
       "    <tr>\n",
       "      <th>26</th>\n",
       "      <td>CANEV_A</td>\n",
       "      <td>Ever been told you have cancer</td>\n",
       "      <td>chronic_conditions</td>\n",
       "    </tr>\n",
       "    <tr>\n",
       "      <th>27</th>\n",
       "      <td>DIBEV_A</td>\n",
       "      <td>Ever been told you have diabetes</td>\n",
       "      <td>chronic_conditions</td>\n",
       "    </tr>\n",
       "    <tr>\n",
       "      <th>28</th>\n",
       "      <td>COPDEV_A</td>\n",
       "      <td>Ever been told you have COPD emphysema or chro...</td>\n",
       "      <td>chronic_conditions</td>\n",
       "    </tr>\n",
       "  </tbody>\n",
       "</table>\n",
       "</div>"
      ],
      "text/plain": [
       "        Variable                               Question/Description  \\\n",
       "0        DEPEV_A                                Ever had depression   \n",
       "1      DEPFREQ_A                                How often depressed   \n",
       "2       DEPMED_A                     Take medication for depression   \n",
       "3     DEPLEVEL_A                             Level of how depressed   \n",
       "4        PHQ81_A   How often little interest in things past 2 weeks   \n",
       "5        PHQ82_A                How often feeling down past 2 weeks   \n",
       "6        PHQ83_A       How often trouble with sleeping past 2 weeks   \n",
       "7        PHQ84_A               How often feeling tired past 2 weeks   \n",
       "8        PHQ85_A   How often undereating or overeating past 2 weeks   \n",
       "9        PHQ86_A      How often feeling bad about self past 2 weeks   \n",
       "10       PHQ87_A       How often trouble concentrating past 2 weeks   \n",
       "11       PHQ88_A  How often moving or speaking slow or fast past...   \n",
       "12        AGEP_A                                                Age   \n",
       "13         SEX_A                                                Sex   \n",
       "14     MARITAL_A                                     Marital status   \n",
       "15    FAMINCTC_A                                      Family Income   \n",
       "16        EDUC_A                                          Education   \n",
       "17  EMPWRKLSWK_A                                            Working   \n",
       "18    RACEALLP_A                                               Race   \n",
       "19        HISP_A                                          Ethnicity   \n",
       "20      OPD12M_A                                          Opiod use   \n",
       "21      SMKNOW_A                                      Cigarette use   \n",
       "22     ECIGNOW_A                                     Ecigarette use   \n",
       "23       HYPEV_A               Ever been told you have hypertension   \n",
       "24       CHLEV_A           Ever been told you have high cholesterol   \n",
       "25        ASEV_A                     Ever been told you have asthma   \n",
       "26       CANEV_A                     Ever been told you have cancer   \n",
       "27       DIBEV_A                   Ever been told you have diabetes   \n",
       "28      COPDEV_A  Ever been told you have COPD emphysema or chro...   \n",
       "\n",
       "              Category  \n",
       "0           depression  \n",
       "1           depression  \n",
       "2           depression  \n",
       "3           depression  \n",
       "4           depression  \n",
       "5           depression  \n",
       "6           depression  \n",
       "7           depression  \n",
       "8           depression  \n",
       "9           depression  \n",
       "10          depression  \n",
       "11          depression  \n",
       "12        demographics  \n",
       "13        demographics  \n",
       "14        demographics  \n",
       "15        demographics  \n",
       "16        demographics  \n",
       "17        demographics  \n",
       "18        demographics  \n",
       "19        demographics  \n",
       "20          substances  \n",
       "21          substances  \n",
       "22          substances  \n",
       "23  chronic_conditions  \n",
       "24  chronic_conditions  \n",
       "25  chronic_conditions  \n",
       "26  chronic_conditions  \n",
       "27  chronic_conditions  \n",
       "28  chronic_conditions  "
      ]
     },
     "execution_count": 3,
     "metadata": {},
     "output_type": "execute_result"
    }
   ],
   "source": [
    "variables_df = pd.read_csv('vars.csv')\n",
    "variables_df"
   ]
  },
  {
   "cell_type": "markdown",
   "id": "6b6ee540",
   "metadata": {},
   "source": [
    "For the project, I decided to choose only the observations in which the person feels depression at least on a weekly basis."
   ]
  },
  {
   "cell_type": "code",
   "execution_count": 4,
   "id": "5890419e",
   "metadata": {},
   "outputs": [],
   "source": [
    "# for the above go into why you chose that give a reference to the definition of depression."
   ]
  },
  {
   "cell_type": "code",
   "execution_count": 5,
   "id": "1cda9245",
   "metadata": {},
   "outputs": [],
   "source": [
    "df_depressed = df[variables_df.Variable][df.DEPFREQ_A <= 2].copy()"
   ]
  },
  {
   "cell_type": "code",
   "execution_count": 6,
   "id": "b4a079fc",
   "metadata": {},
   "outputs": [
    {
     "data": {
      "text/html": [
       "<div>\n",
       "<style scoped>\n",
       "    .dataframe tbody tr th:only-of-type {\n",
       "        vertical-align: middle;\n",
       "    }\n",
       "\n",
       "    .dataframe tbody tr th {\n",
       "        vertical-align: top;\n",
       "    }\n",
       "\n",
       "    .dataframe thead th {\n",
       "        text-align: right;\n",
       "    }\n",
       "</style>\n",
       "<table border=\"1\" class=\"dataframe\">\n",
       "  <thead>\n",
       "    <tr style=\"text-align: right;\">\n",
       "      <th></th>\n",
       "      <th>DEPEV_A</th>\n",
       "      <th>DEPFREQ_A</th>\n",
       "      <th>DEPMED_A</th>\n",
       "      <th>DEPLEVEL_A</th>\n",
       "      <th>PHQ81_A</th>\n",
       "      <th>PHQ82_A</th>\n",
       "      <th>PHQ83_A</th>\n",
       "      <th>PHQ84_A</th>\n",
       "      <th>PHQ85_A</th>\n",
       "      <th>PHQ86_A</th>\n",
       "      <th>...</th>\n",
       "      <th>HISP_A</th>\n",
       "      <th>OPD12M_A</th>\n",
       "      <th>SMKNOW_A</th>\n",
       "      <th>ECIGNOW_A</th>\n",
       "      <th>HYPEV_A</th>\n",
       "      <th>CHLEV_A</th>\n",
       "      <th>ASEV_A</th>\n",
       "      <th>CANEV_A</th>\n",
       "      <th>DIBEV_A</th>\n",
       "      <th>COPDEV_A</th>\n",
       "    </tr>\n",
       "  </thead>\n",
       "  <tbody>\n",
       "    <tr>\n",
       "      <th>4</th>\n",
       "      <td>1</td>\n",
       "      <td>1</td>\n",
       "      <td>1</td>\n",
       "      <td>3.0</td>\n",
       "      <td>4</td>\n",
       "      <td>3</td>\n",
       "      <td>2</td>\n",
       "      <td>3</td>\n",
       "      <td>2</td>\n",
       "      <td>2</td>\n",
       "      <td>...</td>\n",
       "      <td>2</td>\n",
       "      <td>2.0</td>\n",
       "      <td>1.0</td>\n",
       "      <td>NaN</td>\n",
       "      <td>1</td>\n",
       "      <td>1</td>\n",
       "      <td>1</td>\n",
       "      <td>2</td>\n",
       "      <td>1</td>\n",
       "      <td>1</td>\n",
       "    </tr>\n",
       "    <tr>\n",
       "      <th>28</th>\n",
       "      <td>2</td>\n",
       "      <td>2</td>\n",
       "      <td>2</td>\n",
       "      <td>3.0</td>\n",
       "      <td>1</td>\n",
       "      <td>3</td>\n",
       "      <td>3</td>\n",
       "      <td>1</td>\n",
       "      <td>2</td>\n",
       "      <td>3</td>\n",
       "      <td>...</td>\n",
       "      <td>2</td>\n",
       "      <td>NaN</td>\n",
       "      <td>1.0</td>\n",
       "      <td>3.0</td>\n",
       "      <td>2</td>\n",
       "      <td>2</td>\n",
       "      <td>2</td>\n",
       "      <td>2</td>\n",
       "      <td>2</td>\n",
       "      <td>2</td>\n",
       "    </tr>\n",
       "    <tr>\n",
       "      <th>37</th>\n",
       "      <td>1</td>\n",
       "      <td>1</td>\n",
       "      <td>1</td>\n",
       "      <td>3.0</td>\n",
       "      <td>1</td>\n",
       "      <td>3</td>\n",
       "      <td>4</td>\n",
       "      <td>2</td>\n",
       "      <td>1</td>\n",
       "      <td>2</td>\n",
       "      <td>...</td>\n",
       "      <td>2</td>\n",
       "      <td>2.0</td>\n",
       "      <td>1.0</td>\n",
       "      <td>NaN</td>\n",
       "      <td>1</td>\n",
       "      <td>2</td>\n",
       "      <td>2</td>\n",
       "      <td>2</td>\n",
       "      <td>2</td>\n",
       "      <td>2</td>\n",
       "    </tr>\n",
       "    <tr>\n",
       "      <th>41</th>\n",
       "      <td>2</td>\n",
       "      <td>2</td>\n",
       "      <td>2</td>\n",
       "      <td>3.0</td>\n",
       "      <td>2</td>\n",
       "      <td>3</td>\n",
       "      <td>4</td>\n",
       "      <td>4</td>\n",
       "      <td>4</td>\n",
       "      <td>4</td>\n",
       "      <td>...</td>\n",
       "      <td>2</td>\n",
       "      <td>2.0</td>\n",
       "      <td>NaN</td>\n",
       "      <td>NaN</td>\n",
       "      <td>2</td>\n",
       "      <td>2</td>\n",
       "      <td>2</td>\n",
       "      <td>2</td>\n",
       "      <td>2</td>\n",
       "      <td>2</td>\n",
       "    </tr>\n",
       "    <tr>\n",
       "      <th>48</th>\n",
       "      <td>1</td>\n",
       "      <td>1</td>\n",
       "      <td>2</td>\n",
       "      <td>1.0</td>\n",
       "      <td>1</td>\n",
       "      <td>2</td>\n",
       "      <td>1</td>\n",
       "      <td>1</td>\n",
       "      <td>2</td>\n",
       "      <td>1</td>\n",
       "      <td>...</td>\n",
       "      <td>1</td>\n",
       "      <td>2.0</td>\n",
       "      <td>3.0</td>\n",
       "      <td>1.0</td>\n",
       "      <td>1</td>\n",
       "      <td>1</td>\n",
       "      <td>1</td>\n",
       "      <td>1</td>\n",
       "      <td>2</td>\n",
       "      <td>2</td>\n",
       "    </tr>\n",
       "  </tbody>\n",
       "</table>\n",
       "<p>5 rows × 29 columns</p>\n",
       "</div>"
      ],
      "text/plain": [
       "    DEPEV_A  DEPFREQ_A  DEPMED_A  DEPLEVEL_A  PHQ81_A  PHQ82_A  PHQ83_A  \\\n",
       "4         1          1         1         3.0        4        3        2   \n",
       "28        2          2         2         3.0        1        3        3   \n",
       "37        1          1         1         3.0        1        3        4   \n",
       "41        2          2         2         3.0        2        3        4   \n",
       "48        1          1         2         1.0        1        2        1   \n",
       "\n",
       "    PHQ84_A  PHQ85_A  PHQ86_A  ...  HISP_A  OPD12M_A  SMKNOW_A  ECIGNOW_A  \\\n",
       "4         3        2        2  ...       2       2.0       1.0        NaN   \n",
       "28        1        2        3  ...       2       NaN       1.0        3.0   \n",
       "37        2        1        2  ...       2       2.0       1.0        NaN   \n",
       "41        4        4        4  ...       2       2.0       NaN        NaN   \n",
       "48        1        2        1  ...       1       2.0       3.0        1.0   \n",
       "\n",
       "    HYPEV_A  CHLEV_A  ASEV_A  CANEV_A  DIBEV_A  COPDEV_A  \n",
       "4         1        1       1        2        1         1  \n",
       "28        2        2       2        2        2         2  \n",
       "37        1        2       2        2        2         2  \n",
       "41        2        2       2        2        2         2  \n",
       "48        1        1       1        1        2         2  \n",
       "\n",
       "[5 rows x 29 columns]"
      ]
     },
     "execution_count": 6,
     "metadata": {},
     "output_type": "execute_result"
    }
   ],
   "source": [
    "df_depressed.head()"
   ]
  },
  {
   "cell_type": "markdown",
   "id": "5666aba3",
   "metadata": {},
   "source": [
    "## Checking for null values"
   ]
  },
  {
   "cell_type": "code",
   "execution_count": 7,
   "id": "6938a124",
   "metadata": {},
   "outputs": [
    {
     "data": {
      "text/plain": [
       "DEPEV_A            0\n",
       "DEPFREQ_A          0\n",
       "DEPMED_A           0\n",
       "DEPLEVEL_A         0\n",
       "PHQ81_A            0\n",
       "PHQ82_A            0\n",
       "PHQ83_A            0\n",
       "PHQ84_A            0\n",
       "PHQ85_A            0\n",
       "PHQ86_A            0\n",
       "PHQ87_A            0\n",
       "PHQ88_A            0\n",
       "AGEP_A             0\n",
       "SEX_A              0\n",
       "MARITAL_A          0\n",
       "FAMINCTC_A         0\n",
       "EDUC_A             0\n",
       "EMPWRKLSWK_A       0\n",
       "RACEALLP_A         0\n",
       "HISP_A             0\n",
       "OPD12M_A         452\n",
       "SMKNOW_A        1481\n",
       "ECIGNOW_A       2310\n",
       "HYPEV_A            0\n",
       "CHLEV_A            0\n",
       "ASEV_A             0\n",
       "CANEV_A            0\n",
       "DIBEV_A            0\n",
       "COPDEV_A           0\n",
       "dtype: int64"
      ]
     },
     "execution_count": 7,
     "metadata": {},
     "output_type": "execute_result"
    }
   ],
   "source": [
    "df_depressed.isnull().sum()"
   ]
  },
  {
   "cell_type": "markdown",
   "id": "78fee91a",
   "metadata": {},
   "source": [
    "Since more than a third of the observations have missing values for variables SMKNOW_A and ECIGNOW_A, I am going to drop the variables having to do with substance use."
   ]
  },
  {
   "cell_type": "code",
   "execution_count": 8,
   "id": "3b900585",
   "metadata": {},
   "outputs": [],
   "source": [
    "df_depressed.drop(['OPD12M_A','SMKNOW_A','ECIGNOW_A'],axis=1,inplace=True)"
   ]
  },
  {
   "cell_type": "markdown",
   "id": "4aba62be",
   "metadata": {},
   "source": [
    "In the methods section below, I mention I split the dataset into three subsets: one containing the variables related to depression, one containing the demographic variables, and one pertaining to chronic conditions."
   ]
  },
  {
   "cell_type": "code",
   "execution_count": 9,
   "id": "8e2abd2c",
   "metadata": {},
   "outputs": [],
   "source": [
    "depressed_vars = variables_df[variables_df[\"Category\"]==\"depression\"][\"Variable\"]\n",
    "df_depressed_core = df_depressed[depressed_vars].copy()\n",
    "demo_vars = variables_df[variables_df[\"Category\"]==\"demographics\"][\"Variable\"]\n",
    "df_demo = df_depressed[demo_vars].copy()\n",
    "cc_vars = variables_df[variables_df[\"Category\"]==\"chronic_conditions\"][\"Variable\"]\n",
    "df_cc = df_depressed[cc_vars].copy()"
   ]
  },
  {
   "cell_type": "markdown",
   "id": "20bbe316",
   "metadata": {},
   "source": [
    "For visualizations, numerical values will be replaced with their labels as found in the codebook."
   ]
  },
  {
   "cell_type": "code",
   "execution_count": 10,
   "id": "4881f07c",
   "metadata": {},
   "outputs": [],
   "source": [
    "yes_no_labels = {1:'Yes',2:'No',7:'Refused',8:'Not ascertained',9:\"Don't know\"}\n",
    "freq_labels = {1:'Daily',2:'Weekly'}\n",
    "lvl_labels = {1: 'A little', 2: 'A lot', 3 : 'Somewhere in between',7:'Refused',8:'Not ascertained',9:\"Don't know\"}\n",
    "phq_labels = {1:'Not at all',2:'Several days',3:'More than half the days',4:'Nearly every day',\n",
    "              7:'Refused',8:'Not ascertained',9:\"Don't know\"}\n",
    "# need to do demo & cc labels"
   ]
  },
  {
   "cell_type": "code",
   "execution_count": 11,
   "id": "142238e3",
   "metadata": {},
   "outputs": [],
   "source": [
    "df_depressed_core['DEPEV_A'].replace(yes_no_labels,inplace=True)\n",
    "df_depressed_core['DEPMED_A'].replace(yes_no_labels,inplace=True)\n",
    "df_depressed_core['DEPFREQ_A'].replace(freq_labels, inplace=True)\n",
    "df_depressed_core['DEPLEVEL_A'].replace(lvl_labels, inplace=True)\n",
    "for var in ['PHQ81_A','PHQ82_A','PHQ83_A','PHQ84_A','PHQ85_A','PHQ86_A','PHQ87_A','PHQ88_A']:\n",
    "    df_depressed_core[var].replace(phq_labels,inplace=True)\n"
   ]
  },
  {
   "cell_type": "markdown",
   "id": "d68818b5",
   "metadata": {},
   "source": [
    "The exploratory data analysis can be found in the [appendix](#appendix). "
   ]
  },
  {
   "cell_type": "markdown",
   "id": "47c2af27",
   "metadata": {},
   "source": [
    "<a class=\"anchor\" id=\"methods\"></a> \n",
    "# Methods\n",
    "\n",
    "The algoritms I plan to use to cluster the data are\n",
    "* Kmeans clustering\n",
    "* DBSCAN clustering\n",
    "\n",
    "Hierarchal clustering and Gauusian mixture models will not be used as the number of clusters needs to be known in advance.  With kmeans, this can be determined using inertia.  It would be intersting to explore Hierarchal clustering and Gaussian mixture models in the future.\n",
    "\n",
    "Silhouette score will be used to evaluate the clustering and determine the best clustering.\n",
    "\n",
    "I plan to first cluster with only the data with questions regarding depression and then add variables having to do with demographics and chronic conditions\n",
    "\n",
    "## Subsets of data to be clustered\n",
    "* Depression data\n",
    "* Depression data + demographic data\n",
    "* Depression data + data on chronic conditions\n",
    "* Depression data + demographic data + data on chronic conditions\n"
   ]
  },
  {
   "cell_type": "markdown",
   "id": "00966649",
   "metadata": {},
   "source": [
    "## Data preparation"
   ]
  },
  {
   "cell_type": "code",
   "execution_count": null,
   "id": "23f136af",
   "metadata": {},
   "outputs": [],
   "source": []
  },
  {
   "cell_type": "markdown",
   "id": "3cd52e2f",
   "metadata": {},
   "source": [
    "<a class=\"anchor\" id=\"results\"></a> \n",
    "# Results\n",
    "\n",
    "Now, you can walk through the results of the methods. State the results of your tests and explain whether these results mean that you reject or fail to reject the null. Also include compelling tables or graphs to illustrate your findings."
   ]
  },
  {
   "cell_type": "markdown",
   "id": "5f9d2f05",
   "metadata": {},
   "source": [
    "<a class=\"anchor\" id=\"discussion\"></a> \n",
    "# Discussion and Recommendations\n",
    "\n",
    "What insights can interested parties get from this research? What would you recommend for further research?"
   ]
  },
  {
   "cell_type": "markdown",
   "id": "1a58fd0c",
   "metadata": {},
   "source": [
    "<a class=\"anchor\" id=\"references\"></a>   \n",
    "# References\n",
    "\n",
    "1. National Institute of Mental Health. Major Depression. https://www.nimh.nih.gov/health/statistics/major-depression\n",
    "\n",
    "2. InformedHealth.org [Internet]. Cologne, Germany: Institute for Quality and Efficiency in Health Care (IQWiG); 2006-. Depression: How effective are antidepressants? [Updated 2020 Jun 18]. Available from: https://www.ncbi.nlm.nih.gov/books/NBK361016/\n",
    "\n",
    "3. National Center for Health Statistics. (April 5, 2021) National Health Interview Survey. https://www.cdc.gov/nchs/nhis/2019nhis.htm\n",
    "\n",
    "4. National Center for Health Statistics. (September 16, 2020). About the National Health Interview Survey. https://www.cdc.gov/nchs/nhis/about_nhis.htm\n",
    "\n",
    "Sharma, A. (2020, September 8) How to Master the Popular DBSCAN Clustering Algorithm for Machine Learning. Analytics Vidhya. https://www.analyticsvidhya.com/blog/2020/09/how-dbscan-clustering-works/\n",
    "\n",
    "Mullin, T. (2020, July 9) DBSCAN Parameter Estimation Using Python.  Medium. https://medium.com/@tarammullin/dbscan-parameter-estimation-ff8330e3a3bd\n",
    "\n",
    "Erich Schubert, Jörg Sander, Martin Ester, Hans-Peter Kriegel, and Xiaowei Xu. 2017. DBSCAN Revisited,\n",
    "Revisited: Why and How You Should (Still) Use DBSCAN. ACM Trans. Database Syst. 42, 3, Article 19 (July\n",
    "2017), 21 pages.\n",
    "https://doi.org/10.1145/3068335\n",
    "\n"
   ]
  },
  {
   "cell_type": "markdown",
   "id": "4142810f",
   "metadata": {},
   "source": [
    "<a class=\"anchor\" id=\"appendix\"></a> \n",
    "# Appendix"
   ]
  },
  {
   "cell_type": "markdown",
   "id": "37d6dda4",
   "metadata": {},
   "source": [
    "## Exploratory data analysis\n",
    "\n",
    "### Depression variables"
   ]
  },
  {
   "cell_type": "code",
   "execution_count": 12,
   "id": "da04a153",
   "metadata": {},
   "outputs": [
    {
     "data": {
      "text/html": [
       "<div>\n",
       "<style scoped>\n",
       "    .dataframe tbody tr th:only-of-type {\n",
       "        vertical-align: middle;\n",
       "    }\n",
       "\n",
       "    .dataframe tbody tr th {\n",
       "        vertical-align: top;\n",
       "    }\n",
       "\n",
       "    .dataframe thead th {\n",
       "        text-align: right;\n",
       "    }\n",
       "</style>\n",
       "<table border=\"1\" class=\"dataframe\">\n",
       "  <thead>\n",
       "    <tr style=\"text-align: right;\">\n",
       "      <th></th>\n",
       "      <th>DEPEV_A</th>\n",
       "      <th>DEPFREQ_A</th>\n",
       "      <th>DEPMED_A</th>\n",
       "      <th>DEPLEVEL_A</th>\n",
       "      <th>PHQ81_A</th>\n",
       "      <th>PHQ82_A</th>\n",
       "      <th>PHQ83_A</th>\n",
       "      <th>PHQ84_A</th>\n",
       "      <th>PHQ85_A</th>\n",
       "      <th>PHQ86_A</th>\n",
       "      <th>PHQ87_A</th>\n",
       "      <th>PHQ88_A</th>\n",
       "    </tr>\n",
       "  </thead>\n",
       "  <tbody>\n",
       "    <tr>\n",
       "      <th>4</th>\n",
       "      <td>Yes</td>\n",
       "      <td>Daily</td>\n",
       "      <td>Yes</td>\n",
       "      <td>Somewhere in between</td>\n",
       "      <td>Nearly every day</td>\n",
       "      <td>More than half the days</td>\n",
       "      <td>Several days</td>\n",
       "      <td>More than half the days</td>\n",
       "      <td>Several days</td>\n",
       "      <td>Several days</td>\n",
       "      <td>Nearly every day</td>\n",
       "      <td>Not at all</td>\n",
       "    </tr>\n",
       "    <tr>\n",
       "      <th>28</th>\n",
       "      <td>No</td>\n",
       "      <td>Weekly</td>\n",
       "      <td>No</td>\n",
       "      <td>Somewhere in between</td>\n",
       "      <td>Not at all</td>\n",
       "      <td>More than half the days</td>\n",
       "      <td>More than half the days</td>\n",
       "      <td>Not at all</td>\n",
       "      <td>Several days</td>\n",
       "      <td>More than half the days</td>\n",
       "      <td>Not at all</td>\n",
       "      <td>Not at all</td>\n",
       "    </tr>\n",
       "    <tr>\n",
       "      <th>37</th>\n",
       "      <td>Yes</td>\n",
       "      <td>Daily</td>\n",
       "      <td>Yes</td>\n",
       "      <td>Somewhere in between</td>\n",
       "      <td>Not at all</td>\n",
       "      <td>More than half the days</td>\n",
       "      <td>Nearly every day</td>\n",
       "      <td>Several days</td>\n",
       "      <td>Not at all</td>\n",
       "      <td>Several days</td>\n",
       "      <td>Not at all</td>\n",
       "      <td>Not at all</td>\n",
       "    </tr>\n",
       "    <tr>\n",
       "      <th>41</th>\n",
       "      <td>No</td>\n",
       "      <td>Weekly</td>\n",
       "      <td>No</td>\n",
       "      <td>Somewhere in between</td>\n",
       "      <td>Several days</td>\n",
       "      <td>More than half the days</td>\n",
       "      <td>Nearly every day</td>\n",
       "      <td>Nearly every day</td>\n",
       "      <td>Nearly every day</td>\n",
       "      <td>Nearly every day</td>\n",
       "      <td>Nearly every day</td>\n",
       "      <td>Not at all</td>\n",
       "    </tr>\n",
       "    <tr>\n",
       "      <th>48</th>\n",
       "      <td>Yes</td>\n",
       "      <td>Daily</td>\n",
       "      <td>No</td>\n",
       "      <td>A little</td>\n",
       "      <td>Not at all</td>\n",
       "      <td>Several days</td>\n",
       "      <td>Not at all</td>\n",
       "      <td>Not at all</td>\n",
       "      <td>Several days</td>\n",
       "      <td>Not at all</td>\n",
       "      <td>Nearly every day</td>\n",
       "      <td>Not at all</td>\n",
       "    </tr>\n",
       "  </tbody>\n",
       "</table>\n",
       "</div>"
      ],
      "text/plain": [
       "   DEPEV_A DEPFREQ_A DEPMED_A            DEPLEVEL_A           PHQ81_A  \\\n",
       "4      Yes     Daily      Yes  Somewhere in between  Nearly every day   \n",
       "28      No    Weekly       No  Somewhere in between        Not at all   \n",
       "37     Yes     Daily      Yes  Somewhere in between        Not at all   \n",
       "41      No    Weekly       No  Somewhere in between      Several days   \n",
       "48     Yes     Daily       No              A little        Not at all   \n",
       "\n",
       "                    PHQ82_A                  PHQ83_A                  PHQ84_A  \\\n",
       "4   More than half the days             Several days  More than half the days   \n",
       "28  More than half the days  More than half the days               Not at all   \n",
       "37  More than half the days         Nearly every day             Several days   \n",
       "41  More than half the days         Nearly every day         Nearly every day   \n",
       "48             Several days               Not at all               Not at all   \n",
       "\n",
       "             PHQ85_A                  PHQ86_A           PHQ87_A     PHQ88_A  \n",
       "4       Several days             Several days  Nearly every day  Not at all  \n",
       "28      Several days  More than half the days        Not at all  Not at all  \n",
       "37        Not at all             Several days        Not at all  Not at all  \n",
       "41  Nearly every day         Nearly every day  Nearly every day  Not at all  \n",
       "48      Several days               Not at all  Nearly every day  Not at all  "
      ]
     },
     "execution_count": 12,
     "metadata": {},
     "output_type": "execute_result"
    }
   ],
   "source": [
    "df_depressed_core.head()"
   ]
  },
  {
   "cell_type": "markdown",
   "id": "43503f62",
   "metadata": {},
   "source": [
    "#### DEPEV_A\n",
    "\n",
    "According to the codebook, DEPEV_A is the response to the question: \"Have you ever been told by a doctor or health professional that you had ...any type of depression?\""
   ]
  },
  {
   "cell_type": "code",
   "execution_count": 13,
   "id": "fd6e8a6a",
   "metadata": {},
   "outputs": [
    {
     "data": {
      "text/plain": [
       "<AxesSubplot:xlabel='DEPEV_A', ylabel='count'>"
      ]
     },
     "execution_count": 13,
     "metadata": {},
     "output_type": "execute_result"
    },
    {
     "data": {
      "image/png": "[encoded data removed]",
      "text/plain": [
       "<Figure size 432x288 with 1 Axes>"
      ]
     },
     "metadata": {
      "needs_background": "light"
     },
     "output_type": "display_data"
    }
   ],
   "source": [
    "sns.countplot(x='DEPEV_A',data=df_depressed_core)"
   ]
  },
  {
   "cell_type": "markdown",
   "id": "24a8c381",
   "metadata": {},
   "source": [
    "The majority that feel depression on a weekly or daily basis have been told by a doctor they do have depression.\n",
    "\n",
    "#### DEPFREQ_A\n",
    "\n",
    "DEPFREQ_A is the response to the question, \"how often do you feel depressed?\""
   ]
  },
  {
   "cell_type": "code",
   "execution_count": 14,
   "id": "579149ec",
   "metadata": {},
   "outputs": [
    {
     "data": {
      "text/plain": [
       "<AxesSubplot:xlabel='DEPFREQ_A', ylabel='count'>"
      ]
     },
     "execution_count": 14,
     "metadata": {},
     "output_type": "execute_result"
    },
    {
     "data": {
      "image/png": "[encoded data removed]",
      "text/plain": [
       "<Figure size 432x288 with 1 Axes>"
      ]
     },
     "metadata": {
      "needs_background": "light"
     },
     "output_type": "display_data"
    }
   ],
   "source": [
    "sns.countplot(x='DEPFREQ_A', data=df_depressed_core)"
   ]
  },
  {
   "cell_type": "markdown",
   "id": "a5652e6e",
   "metadata": {},
   "source": [
    "As seen above, a little more than half of the people feel depressed on a weekly basis.\n",
    "\n",
    "#### DEPMED_A\n",
    "\n",
    "DEPMED_A represents responces to the question, \"Do you take prescription medication for depression?\"\n",
    "\n"
   ]
  },
  {
   "cell_type": "code",
   "execution_count": 15,
   "id": "abbb2fe5",
   "metadata": {},
   "outputs": [
    {
     "data": {
      "text/plain": [
       "<AxesSubplot:xlabel='DEPMED_A', ylabel='count'>"
      ]
     },
     "execution_count": 15,
     "metadata": {},
     "output_type": "execute_result"
    },
    {
     "data": {
      "image/png": "[encoded data removed]",
      "text/plain": [
       "<Figure size 432x288 with 1 Axes>"
      ]
     },
     "metadata": {
      "needs_background": "light"
     },
     "output_type": "display_data"
    }
   ],
   "source": [
    "sns.countplot(x='DEPMED_A',data=df_depressed_core)"
   ]
  },
  {
   "cell_type": "markdown",
   "id": "94bc1b56",
   "metadata": {},
   "source": [
    "Approximately half of the respondents do take medication.  It would be intererested to explore the relationship between levels of depression and DEPMED_A as well as exploring medical insurance variables for those whom do not take medication. \n",
    "\n",
    "#### DEPLEVEL_A\n",
    "\n",
    "DEPLEVEL_A is the respondent's answer to the question, \"Thinking about the last time you felt depressed, how depressed did you feel?  Would you say a little, a lot, or somewhere in between?\""
   ]
  },
  {
   "cell_type": "code",
   "execution_count": 16,
   "id": "a524d740",
   "metadata": {},
   "outputs": [
    {
     "data": {
      "text/plain": [
       "<AxesSubplot:xlabel='DEPLEVEL_A', ylabel='count'>"
      ]
     },
     "execution_count": 16,
     "metadata": {},
     "output_type": "execute_result"
    },
    {
     "data": {
      "image/png": "[encoded data removed]",
      "text/plain": [
       "<Figure size 432x288 with 1 Axes>"
      ]
     },
     "metadata": {
      "needs_background": "light"
     },
     "output_type": "display_data"
    }
   ],
   "source": [
    "sns.countplot(x='DEPLEVEL_A', data=df_depressed_core)"
   ]
  },
  {
   "cell_type": "markdown",
   "id": "c7fb2fea",
   "metadata": {},
   "source": [
    "Most people feeling depressed on a daily or weekly basis said they feel somewhere in between a little and a lot depressed."
   ]
  },
  {
   "cell_type": "markdown",
   "id": "78b417f0",
   "metadata": {},
   "source": []
  }
 ],
 "metadata": {
  "celltoolbar": "Slideshow",
  "kernelspec": {
   "display_name": "Python 3",
   "language": "python",
   "name": "python3"
  },
  "language_info": {
   "codemirror_mode": {
    "name": "ipython",
    "version": 3
   },
   "file_extension": ".py",
   "mimetype": "text/x-python",
   "name": "python",
   "nbconvert_exporter": "python",
   "pygments_lexer": "ipython3",
   "version": "3.9.5"
  }
 },
 "nbformat": 4,
 "nbformat_minor": 5
}
