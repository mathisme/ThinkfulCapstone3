{
 "cells": [
  {
   "cell_type": "code",
   "execution_count": null,
   "id": "c03fe23c",
   "metadata": {
    "slideshow": {
     "slide_type": "skip"
    }
   },
   "outputs": [],
   "source": [
    "import numpy as np\n",
    "import pandas as pd\n",
    "import matplotlib.pyplot as plt\n",
    "import seaborn as sns\n",
    "from umap import UMAP\n",
    "from sklearn.decomposition import PCA\n",
    "from sklearn.preprocessing import MinMaxScaler\n",
    "from sklearn.cluster import KMeans\n",
    "from sklearn.model_selection import train_test_split\n",
    "from scipy.cluster.hierarchy import dendrogram, linkage\n",
    "from sklearn.cluster import AgglomerativeClustering\n",
    "from sklearn.cluster import DBSCAN\n",
    "from sklearn.metrics import silhouette_score\n",
    "from sklearn.neighbors import NearestNeighbors\n",
    "from kneed.knee_locator import KneeLocator"
   ]
  },
  {
   "cell_type": "markdown",
   "id": "568c0e1a",
   "metadata": {
    "slideshow": {
     "slide_type": "slide"
    }
   },
   "source": [
    "# HOW CAN ADULTS SUFFERING FROM DEPRESSION BE CLUSTERED?\n",
    "\n",
    "<img src=\"ethan-sykes-TdM_fhzmWog-unsplash.jpg\" alt=\"Drawing\" style=\"width: 50%; height:100%;\"/>\n",
    "Photo by <a href=\"https://unsplash.com/@e_sykes?utm_source=unsplash&utm_medium=referral&utm_content=creditCopyText\">Ethan Sykes</a> on <a href=\"https://unsplash.com/s/photos/depressed?utm_source=unsplash&utm_medium=referral&utm_content=creditCopyText\">Unsplash</a>"
   ]
  },
  {
   "cell_type": "markdown",
   "id": "f7d6abf2",
   "metadata": {
    "slideshow": {
     "slide_type": "slide"
    }
   },
   "source": [
    "# Table of Contents\n",
    "\n",
    "* [Introduction](#introduction)\n",
    "* [Research Question](#hypothesis)\n",
    "* [Data](#data)\n",
    "* [Methods](#methods)\n",
    "* [Results](#results)\n",
    "* [Discussion and Recommendations](#discussion)\n",
    "* [References](#references)\n",
    "* [Appendix](#appendix)"
   ]
  },
  {
   "cell_type": "markdown",
   "id": "61187b23",
   "metadata": {
    "slideshow": {
     "slide_type": "slide"
    }
   },
   "source": [
    "<a class=\"anchor\" id=\"introduction\"></a> \n",
    "# Introduction\n",
    "\n",
    "At least 17 million adults in the US suffer from depression each year.<sup>[1](#references)</sup>  And, according to the NCBI article, <u>Depression: How effective are antidepressants?</u><sup>[2](#references)</sup>, only 40 to 60 percent of those with severe depression who take antidepressants notice an improvement in their symptoms.  In this project I would like to explore how adults suffering from depression can be clustered.  If a clear seperation of clusters can be found, tailored treatments can be created to better help those sufferening from depression.  This is a topic of personal interest as my husband suffers from chronic depression."
   ]
  },
  {
   "cell_type": "markdown",
   "id": "a76fcc4d",
   "metadata": {
    "slideshow": {
     "slide_type": "slide"
    }
   },
   "source": [
    "<a class=\"anchor\" id=\"hypothesis\"></a> \n",
    "# Research Question\n",
    "\n",
    "How can adults suffering from depression be clustered?"
   ]
  },
  {
   "cell_type": "markdown",
   "id": "f0235a6b",
   "metadata": {
    "slideshow": {
     "slide_type": "slide"
    }
   },
   "source": [
    "<a class=\"anchor\" id=\"data\"></a> \n",
    "# Data\n",
    "\n"
   ]
  },
  {
   "cell_type": "markdown",
   "id": "c3b81bca",
   "metadata": {},
   "source": [
    "Now that you have walked through the relevance of the topic, posed your research questions, and framed testable hypotheses based on those questions, it's time to introduce the dataset. Tell your audience about the data—when and where was it collected? Perhaps include descriptive statistics or measures of distribution.\n",
    "\n",
    "In order to answer this question, I am using data from the 2019 National Health Interview Survey, Sample Adult Interview.<sup>[3](#references)</sup> The National Health Intervey Survey is a yearly survey meant to 'monitor the health of the United States population.'<sup>[4](#references)</sup> It is a survey conducted in person throughout the year each year.  Populations not included in the survey: individuals with no fixed address, military personnel on active duty, people in long term care facilities, and US citizens living outside the US.  Due to this and the fact it is an optional survey, results are not completely representative of the entire US population.  \n",
    "\n",
    "The 2019 survey comes in two forms: an adult interview and a child interview.  For the project I chose to use data from the adult interview.\n",
    "\n",
    "Topics covered in the survey include:"
   ]
  },
  {
   "cell_type": "code",
   "execution_count": null,
   "id": "1756a8ec",
   "metadata": {},
   "outputs": [],
   "source": [
    "df = pd.read_csv('data/adult19.csv')\n",
    "df.info()"
   ]
  },
  {
   "cell_type": "code",
   "execution_count": null,
   "id": "d62724d2",
   "metadata": {},
   "outputs": [],
   "source": []
  },
  {
   "cell_type": "markdown",
   "id": "47c2af27",
   "metadata": {},
   "source": [
    "<a class=\"anchor\" id=\"methods\"></a> \n",
    "# Methods\n",
    "\n",
    "Explain the steps needed to test the hypotheses. This includes any data wrangling, tests, and visualizations that you will need to definitively reject or fail to reject your null hypotheses."
   ]
  },
  {
   "cell_type": "markdown",
   "id": "3cd52e2f",
   "metadata": {},
   "source": [
    "<a class=\"anchor\" id=\"results\"></a> \n",
    "# Results\n",
    "\n",
    "Now, you can walk through the results of the methods. State the results of your tests and explain whether these results mean that you reject or fail to reject the null. Also include compelling tables or graphs to illustrate your findings."
   ]
  },
  {
   "cell_type": "markdown",
   "id": "5f9d2f05",
   "metadata": {},
   "source": [
    "<a class=\"anchor\" id=\"discussion\"></a> \n",
    "# Discussion and Recommendations\n",
    "\n",
    "What insights can interested parties get from this research? What would you recommend for further research?"
   ]
  },
  {
   "cell_type": "markdown",
   "id": "1a58fd0c",
   "metadata": {},
   "source": [
    "<a class=\"anchor\" id=\"references\"></a>   \n",
    "# References\n",
    "\n",
    "1. National Institute of Mental Health. Major Depression. https://www.nimh.nih.gov/health/statistics/major-depression\n",
    "\n",
    "2. InformedHealth.org [Internet]. Cologne, Germany: Institute for Quality and Efficiency in Health Care (IQWiG); 2006-. Depression: How effective are antidepressants? [Updated 2020 Jun 18]. Available from: https://www.ncbi.nlm.nih.gov/books/NBK361016/\n",
    "\n",
    "3. National Center for Health Statistics. (April 5, 2021) National Health Interview Survey. https://www.cdc.gov/nchs/nhis/2019nhis.htm\n",
    "\n",
    "4. National Center for Health Statistics. (September 16, 2020). About the National Health Interview Survey. https://www.cdc.gov/nchs/nhis/about_nhis.htm\n",
    "\n",
    "Sharma, A. (2020, September 8) How to Master the Popular DBSCAN Clustering Algorithm for Machine Learning. Analytics Vidhya. https://www.analyticsvidhya.com/blog/2020/09/how-dbscan-clustering-works/\n",
    "\n",
    "Mullin, T. (2020, July 9) DBSCAN Parameter Estimation Using Python.  Medium. https://medium.com/@tarammullin/dbscan-parameter-estimation-ff8330e3a3bd\n",
    "\n",
    "Erich Schubert, Jörg Sander, Martin Ester, Hans-Peter Kriegel, and Xiaowei Xu. 2017. DBSCAN Revisited,\n",
    "Revisited: Why and How You Should (Still) Use DBSCAN. ACM Trans. Database Syst. 42, 3, Article 19 (July\n",
    "2017), 21 pages.\n",
    "https://doi.org/10.1145/3068335\n",
    "\n"
   ]
  },
  {
   "cell_type": "markdown",
   "id": "4142810f",
   "metadata": {},
   "source": [
    "<a class=\"anchor\" id=\"appendix\"></a> \n",
    "# Appendix"
   ]
  },
  {
   "cell_type": "code",
   "execution_count": null,
   "id": "abbb2fe5",
   "metadata": {},
   "outputs": [],
   "source": []
  }
 ],
 "metadata": {
  "celltoolbar": "Slideshow",
  "kernelspec": {
   "display_name": "Python 3",
   "language": "python",
   "name": "python3"
  },
  "language_info": {
   "codemirror_mode": {
    "name": "ipython",
    "version": 3
   },
   "file_extension": ".py",
   "mimetype": "text/x-python",
   "name": "python",
   "nbconvert_exporter": "python",
   "pygments_lexer": "ipython3",
   "version": "3.9.5"
  }
 },
 "nbformat": 4,
 "nbformat_minor": 5
}
